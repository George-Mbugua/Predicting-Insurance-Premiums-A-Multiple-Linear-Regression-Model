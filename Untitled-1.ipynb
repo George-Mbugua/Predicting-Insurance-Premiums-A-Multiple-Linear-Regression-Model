{
 "cells": [
  {
   "cell_type": "markdown",
   "metadata": {},
   "source": [
    "# Predicting-Insurance-Premiums-A-Multiple-Linear-Regression-Model"
   ]
  },
  {
   "cell_type": "markdown",
   "metadata": {},
   "source": [
    "## 1. Defining the Question\n",
    "\n",
    "To develop a multiple linear regression model which will predict insurance premiums that will be used by insurance companies to manage risk and ensure financial stability.\n"
   ]
  },
  {
   "cell_type": "markdown",
   "metadata": {},
   "source": [
    "## Problem statement \n",
    "\n",
    "Insurance companies need to determine the appropriate amount of premiums to charge their customers based on various factors such as age, gender, health condition, smoking status, etc. This is important to manage risk and ensure financial stability for both the insurers and the insured. However, finding the optimal premium rate is not a trivial task, as it involves complex mathematical calculations and statistical analysis.\n",
    "\n",
    "## Main objective \n",
    "\n",
    "The main objective of this project is to develop a multiple linear regression model that can predict the insurance premiums for different customers based on their attributes. The model will use a dataset of insurance costs and customer information as the input, and output the predicted premium value for each customer. The model will also provide an estimate of the error or uncertainty associated with each prediction.\n",
    "\n",
    "## Metric of success \n",
    "\n",
    "The project will be considered a success if the predictive model has a Mean Absolute Percentage Error (MAPE) of less than 10% and is able to explain not less than 80% of the variation of the target variable."
   ]
  },
  {
   "cell_type": "markdown",
   "metadata": {},
   "source": [
    "## Objectives\n",
    "\n",
    "1.Data collection\n",
    "\n",
    "2.Read and tidy the data\n",
    "\n",
    "3.External data source validation\n",
    "\n",
    "4.Exploratory data analysis\n",
    "\n",
    "5.Data modelling and model performance evaluation\n",
    "\n",
    "6.Use the model to make predictions"
   ]
  },
  {
   "cell_type": "code",
   "execution_count": 2,
   "metadata": {},
   "outputs": [],
   "source": []
  },
  {
   "cell_type": "code",
   "execution_count": null,
   "metadata": {},
   "outputs": [],
   "source": []
  }
 ],
 "metadata": {
  "kernelspec": {
   "display_name": "base",
   "language": "python",
   "name": "python3"
  },
  "language_info": {
   "codemirror_mode": {
    "name": "ipython",
    "version": 3
   },
   "file_extension": ".py",
   "mimetype": "text/x-python",
   "name": "python",
   "nbconvert_exporter": "python",
   "pygments_lexer": "ipython3",
   "version": "3.9.16"
  },
  "orig_nbformat": 4
 },
 "nbformat": 4,
 "nbformat_minor": 2
}
